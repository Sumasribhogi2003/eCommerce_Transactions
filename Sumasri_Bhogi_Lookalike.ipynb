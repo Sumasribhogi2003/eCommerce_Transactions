{
 "cells": [
  {
   "cell_type": "code",
   "execution_count": 1,
   "id": "32d04151-d1e9-46b2-bcf7-c84b7aa19fa0",
   "metadata": {},
   "outputs": [
    {
     "name": "stdout",
     "output_type": "stream",
     "text": [
      "Defaulting to user installation because normal site-packages is not writeable\n",
      "Requirement already satisfied: pandas in c:\\users\\hp\\appdata\\roaming\\python\\python312\\site-packages (2.2.1)\n",
      "Requirement already satisfied: numpy in c:\\users\\hp\\appdata\\roaming\\python\\python312\\site-packages (1.26.4)\n",
      "Requirement already satisfied: scikit-learn in c:\\users\\hp\\appdata\\roaming\\python\\python312\\site-packages (1.5.0)\n",
      "Requirement already satisfied: python-dateutil>=2.8.2 in c:\\users\\hp\\appdata\\roaming\\python\\python312\\site-packages (from pandas) (2.9.0.post0)\n",
      "Requirement already satisfied: pytz>=2020.1 in c:\\users\\hp\\appdata\\roaming\\python\\python312\\site-packages (from pandas) (2024.1)\n",
      "Requirement already satisfied: tzdata>=2022.7 in c:\\users\\hp\\appdata\\roaming\\python\\python312\\site-packages (from pandas) (2024.1)\n",
      "Requirement already satisfied: scipy>=1.6.0 in c:\\users\\hp\\appdata\\roaming\\python\\python312\\site-packages (from scikit-learn) (1.13.1)\n",
      "Requirement already satisfied: joblib>=1.2.0 in c:\\users\\hp\\appdata\\roaming\\python\\python312\\site-packages (from scikit-learn) (1.3.2)\n",
      "Requirement already satisfied: threadpoolctl>=3.1.0 in c:\\users\\hp\\appdata\\roaming\\python\\python312\\site-packages (from scikit-learn) (3.5.0)\n",
      "Requirement already satisfied: six>=1.5 in c:\\users\\hp\\appdata\\roaming\\python\\python312\\site-packages (from python-dateutil>=2.8.2->pandas) (1.16.0)\n",
      "Note: you may need to restart the kernel to use updated packages.\n"
     ]
    }
   ],
   "source": [
    "pip install pandas numpy scikit-learn\n"
   ]
  },
  {
   "cell_type": "code",
   "execution_count": 2,
   "id": "12fc417d-c7d0-4bc6-b981-cab294c7db1b",
   "metadata": {},
   "outputs": [],
   "source": [
    "import pandas as pd\n",
    "import numpy as np\n",
    "from sklearn.metrics.pairwise import cosine_similarity\n",
    "from sklearn.preprocessing import StandardScaler\n"
   ]
  },
  {
   "cell_type": "code",
   "execution_count": 3,
   "id": "17b91b0c-384d-4fc2-854b-cc9a571c3607",
   "metadata": {},
   "outputs": [],
   "source": [
    "customers = pd.read_csv(r'C:\\Users\\HP\\Downloads\\Customers.csv')\n",
    "products = pd.read_csv(r'C:\\Users\\HP\\Downloads\\Products.csv')\n",
    "transactions = pd.read_csv(r'C:\\Users\\HP\\Downloads\\Transactions.csv')"
   ]
  },
  {
   "cell_type": "code",
   "execution_count": 7,
   "id": "7b7a208d-2865-47c6-953a-d7a2d8d11110",
   "metadata": {},
   "outputs": [],
   "source": [
    "customer_transactions = pd.merge(transactions, customers, on='CustomerID', how='left')\n",
    "customer_transactions = pd.merge(customer_transactions, products, on='ProductID', how='left')\n"
   ]
  },
  {
   "cell_type": "code",
   "execution_count": 8,
   "id": "df3ddc93-277e-4408-9c88-b7965dc32e69",
   "metadata": {},
   "outputs": [],
   "source": [
    "customer_summary = customer_transactions.groupby('CustomerID').agg(\n",
    "    total_spent=('TotalValue', 'sum'),\n",
    "    avg_spent=('TotalValue', 'mean'),\n",
    "    purchase_frequency=('TransactionID', 'count'),\n",
    "    last_purchase_date=('TransactionDate', 'max')\n",
    ")\n"
   ]
  },
  {
   "cell_type": "code",
   "execution_count": 9,
   "id": "fcfd6475-cadf-4c47-b338-83b0fc4f789b",
   "metadata": {},
   "outputs": [],
   "source": [
    "customer_summary.fillna(0, inplace=True)\n"
   ]
  },
  {
   "cell_type": "code",
   "execution_count": 10,
   "id": "e7de3fc7-3715-4cd2-ac1c-bc4211b62b83",
   "metadata": {},
   "outputs": [],
   "source": [
    "customer_summary['recency'] = (pd.to_datetime('today') - pd.to_datetime(customer_summary['last_purchase_date'])).dt.days\n"
   ]
  },
  {
   "cell_type": "code",
   "execution_count": 12,
   "id": "a89ffcb3-7f8f-4081-974e-3a54c156d93c",
   "metadata": {},
   "outputs": [],
   "source": [
    "from sklearn.preprocessing import StandardScaler\n",
    "scaler = StandardScaler()\n",
    "\n",
    "customer_features = customer_summary[['total_spent', 'avg_spent', 'purchase_frequency', 'recency']]\n",
    "customer_features_scaled = scaler.fit_transform(customer_features)\n"
   ]
  },
  {
   "cell_type": "code",
   "execution_count": 13,
   "id": "81fd9032-99a9-4056-8a4f-bb4c7942f9d2",
   "metadata": {},
   "outputs": [],
   "source": [
    "from sklearn.metrics.pairwise import cosine_similarity\n",
    "\n",
    "similarity_matrix = cosine_similarity(customer_features_scaled)\n"
   ]
  },
  {
   "cell_type": "code",
   "execution_count": 14,
   "id": "3c0a0ad0-5025-469e-8867-c1765a9e82b8",
   "metadata": {},
   "outputs": [],
   "source": [
    "similarity_df = pd.DataFrame(similarity_matrix, index=customer_summary.index, columns=customer_summary.index)\n"
   ]
  },
  {
   "cell_type": "code",
   "execution_count": 15,
   "id": "d245076d-eed1-492d-add9-e2c5dd115923",
   "metadata": {},
   "outputs": [],
   "source": [
    "lookalike_map = {}\n",
    "\n",
    "for customer_id in customer_summary.index[:20]:\n",
    "    similar_customers = similarity_df[customer_id].sort_values(ascending=False).iloc[1:4]  # Exclude the customer itself\n",
    "    lookalike_map[customer_id] = [(cust_id, score) for cust_id, score in zip(similar_customers.index, similar_customers.values)]\n"
   ]
  },
  {
   "cell_type": "code",
   "execution_count": 17,
   "id": "a0cd86fc-887a-419a-9b0d-6f200ee0eacf",
   "metadata": {},
   "outputs": [],
   "source": [
    "# Flatten the lookalike map into a list of rows\n",
    "flattened_data = []\n",
    "for customer_id, lookalikes in lookalike_map.items():\n",
    "    for lookalike in lookalikes:\n",
    "        flattened_data.append([customer_id, lookalike[0], lookalike[1]])\n",
    "\n",
    "# Create a DataFrame\n",
    "lookalike_df = pd.DataFrame(flattened_data, columns=['CustomerID', 'LookalikeCustomerID', 'SimilarityScore'])\n",
    "\n",
    "# Save the result to CSV\n",
    "lookalike_df.to_csv('Lookalike.csv', index=False)\n"
   ]
  },
  {
   "cell_type": "code",
   "execution_count": null,
   "id": "778e9e4d-8a3e-49c4-b8c3-c73431c2a995",
   "metadata": {},
   "outputs": [],
   "source": []
  }
 ],
 "metadata": {
  "kernelspec": {
   "display_name": "Python 3 (ipykernel)",
   "language": "python",
   "name": "python3"
  },
  "language_info": {
   "codemirror_mode": {
    "name": "ipython",
    "version": 3
   },
   "file_extension": ".py",
   "mimetype": "text/x-python",
   "name": "python",
   "nbconvert_exporter": "python",
   "pygments_lexer": "ipython3",
   "version": "3.12.2"
  }
 },
 "nbformat": 4,
 "nbformat_minor": 5
}
